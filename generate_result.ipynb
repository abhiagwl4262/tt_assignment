{
 "cells": [
  {
   "cell_type": "code",
   "execution_count": 1,
   "metadata": {},
   "outputs": [],
   "source": [
    "import os\n",
    "import pandas as pd\n",
    "import numpy as np"
   ]
  },
  {
   "cell_type": "code",
   "execution_count": 3,
   "metadata": {},
   "outputs": [],
   "source": [
    "result_dir = \"output/labels\""
   ]
  },
  {
   "cell_type": "code",
   "execution_count": 22,
   "metadata": {},
   "outputs": [
    {
     "name": "stderr",
     "output_type": "stream",
     "text": [
      "/tmp/ipykernel_1448883/1254620616.py:26: FutureWarning: elementwise comparison failed; returning scalar instead, but in the future will perform elementwise comparison\n",
      "  elif (\"1\" in unique_cls_ids) and (\"2\" in unique_cls_ids):\n"
     ]
    }
   ],
   "source": [
    "label_files = os.listdir(result_dir)\n",
    "for label_file in label_files:\n",
    "    anns = []\n",
    "    label_path = os.path.join(result_dir, label_file)\n",
    "    f = open(label_path, \"r\")\n",
    "    lines = f.readlines()\n",
    "    for line in lines:\n",
    "        ann = line.strip(\"\\n\").split(\" \")\n",
    "        anns.append(ann)\n",
    "    anns = np.array(anns, np.float32)\n",
    "    area = np.multiply(anns[:, 3], anns[:, 4])\n",
    "    if anns.shape[0] > 1:\n",
    "        cls_ids = anns[:, 0]\n",
    "        unique_cls_ids = np.unique(cls_ids)\n",
    "        if len(unique_cls_ids) == 1:\n",
    "            ##case 1\n",
    "            #  all \"Other-class 0\"\n",
    "            #  all \"lenin-class 1\"\n",
    "            #  all \"Atartuk-class 2\"\n",
    "            ### Take larger one\n",
    "\n",
    "            large_idx = np.argmax(area)\n",
    "\n",
    "        elif (\"1\" in unique_cls_ids) and (\"2\" in unique_cls_ids):\n",
    "            ## case 2\n",
    "            ##Lenin\n",
    "            ##Atartuk\n",
    "            ##other\n",
    "            # take larger of lenin and atartuk\n",
    "            print(anns)\n",
    "            # remove class-0 ann from anns and take larger\n",
    "\n",
    "        ## case 3\n",
    "        ##Lenin\n",
    "        ##other\n",
    "        # take lenin\n",
    "\n",
    "        ## case 4\n",
    "        ##atarktuk\n",
    "        ##other\n",
    "        # take atartuk\n",
    "\n",
    "        ##case 5\n",
    "        ## other"
   ]
  },
  {
   "cell_type": "code",
   "execution_count": null,
   "metadata": {},
   "outputs": [],
   "source": []
  }
 ],
 "metadata": {
  "kernelspec": {
   "display_name": "yolov5",
   "language": "python",
   "name": "python3"
  },
  "language_info": {
   "codemirror_mode": {
    "name": "ipython",
    "version": 3
   },
   "file_extension": ".py",
   "mimetype": "text/x-python",
   "name": "python",
   "nbconvert_exporter": "python",
   "pygments_lexer": "ipython3",
   "version": "3.8.16"
  },
  "orig_nbformat": 4
 },
 "nbformat": 4,
 "nbformat_minor": 2
}
