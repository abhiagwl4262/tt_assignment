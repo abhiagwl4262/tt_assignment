{
 "cells": [
  {
   "cell_type": "code",
   "execution_count": 23,
   "metadata": {},
   "outputs": [],
   "source": [
    "import os\n",
    "from PIL import Image\n",
    "import pandas as pd\n",
    "import shutil"
   ]
  },
  {
   "cell_type": "code",
   "execution_count": 2,
   "metadata": {},
   "outputs": [
    {
     "data": {
      "text/html": [
       "<div>\n",
       "<style scoped>\n",
       "    .dataframe tbody tr th:only-of-type {\n",
       "        vertical-align: middle;\n",
       "    }\n",
       "\n",
       "    .dataframe tbody tr th {\n",
       "        vertical-align: top;\n",
       "    }\n",
       "\n",
       "    .dataframe thead th {\n",
       "        text-align: right;\n",
       "    }\n",
       "</style>\n",
       "<table border=\"1\" class=\"dataframe\">\n",
       "  <thead>\n",
       "    <tr style=\"text-align: right;\">\n",
       "      <th></th>\n",
       "      <th>filename</th>\n",
       "      <th>width</th>\n",
       "      <th>height</th>\n",
       "      <th>class</th>\n",
       "      <th>xmin</th>\n",
       "      <th>ymin</th>\n",
       "      <th>xmax</th>\n",
       "      <th>ymax</th>\n",
       "    </tr>\n",
       "  </thead>\n",
       "  <tbody>\n",
       "    <tr>\n",
       "      <th>0</th>\n",
       "      <td>Balashikha_0204.JPG</td>\n",
       "      <td>1296</td>\n",
       "      <td>864</td>\n",
       "      <td>lenin</td>\n",
       "      <td>683</td>\n",
       "      <td>198</td>\n",
       "      <td>709</td>\n",
       "      <td>230</td>\n",
       "    </tr>\n",
       "    <tr>\n",
       "      <th>1</th>\n",
       "      <td>New_Mexico_947.jpg</td>\n",
       "      <td>1404</td>\n",
       "      <td>936</td>\n",
       "      <td>other</td>\n",
       "      <td>619</td>\n",
       "      <td>205</td>\n",
       "      <td>648</td>\n",
       "      <td>234</td>\n",
       "    </tr>\n",
       "    <tr>\n",
       "      <th>2</th>\n",
       "      <td>Skopje_037.JPG</td>\n",
       "      <td>1128</td>\n",
       "      <td>752</td>\n",
       "      <td>other</td>\n",
       "      <td>457</td>\n",
       "      <td>34</td>\n",
       "      <td>509</td>\n",
       "      <td>97</td>\n",
       "    </tr>\n",
       "    <tr>\n",
       "      <th>3</th>\n",
       "      <td>Skopje_037.JPG</td>\n",
       "      <td>1128</td>\n",
       "      <td>752</td>\n",
       "      <td>other</td>\n",
       "      <td>414</td>\n",
       "      <td>267</td>\n",
       "      <td>480</td>\n",
       "      <td>346</td>\n",
       "    </tr>\n",
       "    <tr>\n",
       "      <th>4</th>\n",
       "      <td>Skopje_037.JPG</td>\n",
       "      <td>1128</td>\n",
       "      <td>752</td>\n",
       "      <td>other</td>\n",
       "      <td>715</td>\n",
       "      <td>287</td>\n",
       "      <td>789</td>\n",
       "      <td>349</td>\n",
       "    </tr>\n",
       "  </tbody>\n",
       "</table>\n",
       "</div>"
      ],
      "text/plain": [
       "              filename  width  height  class  xmin  ymin  xmax  ymax\n",
       "0  Balashikha_0204.JPG   1296     864  lenin   683   198   709   230\n",
       "1   New_Mexico_947.jpg   1404     936  other   619   205   648   234\n",
       "2       Skopje_037.JPG   1128     752  other   457    34   509    97\n",
       "3       Skopje_037.JPG   1128     752  other   414   267   480   346\n",
       "4       Skopje_037.JPG   1128     752  other   715   287   789   349"
      ]
     },
     "execution_count": 2,
     "metadata": {},
     "output_type": "execute_result"
    }
   ],
   "source": [
    "labels = pd.read_csv(\"statues-train/statues_labels.csv\")\n",
    "labels.head()"
   ]
  },
  {
   "cell_type": "code",
   "execution_count": 4,
   "metadata": {},
   "outputs": [],
   "source": [
    "class_dict = {\n",
    "    \"other\" : 0,\n",
    "    \"lenin\" : 1,\n",
    "    \"ataturk\":2\n",
    "}"
   ]
  },
  {
   "cell_type": "code",
   "execution_count": 6,
   "metadata": {},
   "outputs": [],
   "source": [
    "unique_imgs = labels.filename.unique()"
   ]
  },
  {
   "cell_type": "code",
   "execution_count": null,
   "metadata": {},
   "outputs": [],
   "source": [
    "for img in unique_imgs:\n",
    "    anns = labels.loc[labels[\"filename\"] == img]\n",
    "    filename = img.split(\".\")[0]\n",
    "    f = open(f\"labels/{filename}.txt\", \"w+\")\n",
    "    for i, ann in anns.iterrows():    \n",
    "        width, height = ann[\"width\"], ann[\"height\"]\n",
    "        x1 = float(ann[\"xmin\"])/ann[\"width\"]\n",
    "        y1 = float(ann[\"ymin\"])/ann[\"height\"]\n",
    "        x2 = float(ann[\"xmax\"])/ann[\"width\"]\n",
    "        y2 = float(ann[\"ymax\"])/ann[\"height\"]\n",
    "\n",
    "        # w = x2 - x1\n",
    "        # h = y2 - y1\n",
    "        \n",
    "        # x_center = x1 + w / 2.\n",
    "        # y_center = y1 + h / 2.\n",
    "\n",
    "        xmin = int(ann[\"xmin\"])\n",
    "        ymin = int(ann[\"ymin\"])\n",
    "        xmax = int(ann[\"xmax\"])\n",
    "        ymax = int(ann[\"ymax\"])\n",
    "\n",
    "        # w = x2 - x1\n",
    "        # h = y2 - y1\n",
    "        # x_center = min(xmin, xmax) + w / 2.\n",
    "        # y_center = min(ymin, ymax) + h / 2.\n",
    "\n",
    "        w = abs(xmin-xmax) / width\n",
    "        h = abs(ymin-ymax) / height\n",
    "        x_center = (min(xmin, xmax) / width) + w / 2.0\n",
    "        y_center = (min(ymin, ymax) / height) + h / 2.0\n",
    "\n",
    "        class_id = class_dict[ann[\"class\"]]\n",
    "        line = f\"{class_id} {x_center} {y_center} {w} {h}\\n\"\n",
    "        f.write(line)"
   ]
  },
  {
   "cell_type": "code",
   "execution_count": 21,
   "metadata": {},
   "outputs": [],
   "source": [
    "## create image labels\n",
    "folder_path = \"/home/ubuntu/statues-train/\"\n",
    "train_annt = os.listdir(\"/home/ubuntu/yolov5/datasets/data/labels/train\")\n",
    "val_annt = os.listdir(\"/home/ubuntu/yolov5/datasets/data/labels/val\")\n",
    "total = 0\n",
    "count = 0\n",
    "for root, _, files in os.walk(folder_path):\n",
    "    for file in files:\n",
    "        if not file.lower().endswith(\".jpg\"):\n",
    "            continue\n",
    "        ann_filename = f\"{os.path.splitext(file)[0]}.txt\"\n",
    "        if ann_filename in train_annt or ann_filename in val_annt:\n",
    "            continue\n",
    "        total += 1\n",
    "\n",
    "for root, _, files in os.walk(folder_path):\n",
    "    for file in files:\n",
    "        if not file.lower().endswith(\".jpg\"):\n",
    "            continue\n",
    "        ann_filename = f\"{os.path.splitext(file)[0]}.txt\"\n",
    "        if ann_filename in train_annt or ann_filename in val_annt:\n",
    "            continue\n",
    "        if count <= int(total * .8):\n",
    "            path = os.path.join(\"/home/ubuntu/yolov5/datasets/data/labels/train\", ann_filename)\n",
    "            count += 1\n",
    "        else:\n",
    "            path = os.path.join(\"/home/ubuntu/yolov5/datasets/data/labels/val\", ann_filename)\n",
    "        with open(path, \"w+\") as fw:\n",
    "            fw.write(\"\")"
   ]
  },
  {
   "cell_type": "code",
   "execution_count": 28,
   "metadata": {},
   "outputs": [],
   "source": [
    "image_dict = {}\n",
    "for root, _, files in os.walk(folder_path):\n",
    "    for file in files:\n",
    "        if not file.lower().endswith(\".jpg\"):\n",
    "            continue\n",
    "        ann_filename = f\"{os.path.splitext(file)[0]}.txt\"\n",
    "        image_dict[ann_filename] = os.path.join(root, file)\n",
    "\n",
    "phases = [\"train\", \"val\"]\n",
    "for phase in phases:\n",
    "    for ann_file in os.listdir(f\"/home/ubuntu/yolov5/datasets/data/labels/{phase}\"):\n",
    "        path = os.path.join(f\"/home/ubuntu/yolov5/datasets/data/images/{phase}\", os.path.basename(image_dict[ann_file]))\n",
    "        os.makedirs(os.path.dirname(path), exist_ok=True)\n",
    "        shutil.copy(image_dict[ann_file], path)\n",
    "        # print(image_dict[ann_file], path)"
   ]
  },
  {
   "cell_type": "code",
   "execution_count": 29,
   "metadata": {},
   "outputs": [
    {
     "ename": "SyntaxError",
     "evalue": "unexpected EOF while parsing (3311767521.py, line 1)",
     "output_type": "error",
     "traceback": [
      "\u001b[0;36m  Cell \u001b[0;32mIn[29], line 1\u001b[0;36m\u001b[0m\n\u001b[0;31m    for file in os.listdir(\"./\"):\u001b[0m\n\u001b[0m                                 ^\u001b[0m\n\u001b[0;31mSyntaxError\u001b[0m\u001b[0;31m:\u001b[0m unexpected EOF while parsing\n"
     ]
    }
   ],
   "source": [
    "for file in os.listdir(\"./\"):\n",
    "    shutil.rmtree()"
   ]
  },
  {
   "cell_type": "code",
   "execution_count": null,
   "metadata": {},
   "outputs": [],
   "source": [
    "s"
   ]
  }
 ],
 "metadata": {
  "kernelspec": {
   "display_name": "Python 3.9.12 ('MA')",
   "language": "python",
   "name": "python3"
  },
  "language_info": {
   "codemirror_mode": {
    "name": "ipython",
    "version": 3
   },
   "file_extension": ".py",
   "mimetype": "text/x-python",
   "name": "python",
   "nbconvert_exporter": "python",
   "pygments_lexer": "ipython3",
   "version": "3.8.16"
  },
  "orig_nbformat": 4
 },
 "nbformat": 4,
 "nbformat_minor": 2
}
