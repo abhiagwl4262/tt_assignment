{
 "cells": [
  {
   "cell_type": "code",
   "execution_count": null,
   "metadata": {},
   "outputs": [],
   "source": [
    "import os\n",
    "# from PIL import Image\n",
    "import cv2\n",
    "import matplotlib.pyplot as plt\n",
    "import matplotlib.patches as patches"
   ]
  },
  {
   "cell_type": "code",
   "execution_count": null,
   "metadata": {},
   "outputs": [],
   "source": [
    "# data_dir = \"labels\"\n",
    "# image_dir = os.path.join(data_dir, \"images\")\n",
    "# label_dir = os.path.join(data_dir, \"labels\")\n",
    "\n",
    "image_dir = os.path.join(\"statues-train/statues-ataturk\")\n",
    "label_dir = os.path.join(\"labels\")\n",
    "\n",
    "ann_out_dir = os.path.join(\"local\", \"ann_plots\")\n",
    "os.makedirs(ann_out_dir, exist_ok=True)\n",
    "data_types = [\"train\", \"val\"]"
   ]
  },
  {
   "cell_type": "code",
   "execution_count": null,
   "metadata": {},
   "outputs": [],
   "source": [
    "def plot(img_path, label_path):\n",
    "    # img = Image.open(img_path)\n",
    "    # w = img.width\n",
    "    # h = img.height\n",
    "    img =  cv2.imread(img_path)\n",
    "    h, w = img.shape[:2]\n",
    "    f = open(label_path, \"r\")\n",
    "    anns = f.readlines()\n",
    "\n",
    "    # fig, ax = plt.subplots()\n",
    "    # ax.imshow(img)    \n",
    "    for ann in anns:\n",
    "        class_id, xc, yc, w_box, h_box = ann.strip(\"\\n\").split(\" \")\n",
    "        # import pdb; pdb.set_trace()\n",
    "        xc    = float(xc)*w\n",
    "        yc    = float(yc)*h\n",
    "        w_box = float(w_box)*w\n",
    "        h_box = float(h_box)*h\n",
    "        \n",
    "        x1  = xc - w_box/2.0\n",
    "        y1  = yc - h_box/2.0\n",
    "        x2  = xc + w_box/2.0\n",
    "        y2  = yc + h_box/2.0\n",
    "\n",
    "        # rect = patches.Rectangle((x1, y1), w_box, h_box, linewidth=1, edgecolor='r', facecolor='none')\n",
    "        # ax.add_patch(rect)\n",
    "        cv2.rectangle(img, (int(x1), int(y1)), (int(x2), int(y2)), (0,255,0), 2)\n",
    "    out_path = os.path.join(ann_out_dir, os.path.basename(img_path))\n",
    "    cv2.imwrite(out_path, img)"
   ]
  },
  {
   "cell_type": "code",
   "execution_count": null,
   "metadata": {},
   "outputs": [],
   "source": [
    "# for data_type in data_types:\n",
    "#     img_dir = os.path.join(image_dir, data_type)\n",
    "#     ann_dir = os.path.join(label_dir, data_type)\n",
    "\n",
    "#     img_paths = os.listdir(img_dir)\n",
    "#     for img_path in img_paths:\n",
    "#         img_name = img_path.split(\".\")[0]\n",
    "#         img_path = os.path.join(img_dir, img_path)\n",
    "#         label_path = os.path.join(ann_dir, img_name+\".txt\")\n",
    "#         # plot(img_path, label_path)"
   ]
  },
  {
   "cell_type": "code",
   "execution_count": null,
   "metadata": {},
   "outputs": [],
   "source": [
    "img_paths = os.listdir(image_dir)\n",
    "from tqdm import tqdm\n",
    "for filename in tqdm(img_paths):\n",
    "    img_name = filename.split(\".\")[0]\n",
    "    img_path = os.path.join(image_dir, filename)\n",
    "    label_path = os.path.join(label_dir, img_name+\".txt\")\n",
    "    plot(img_path, label_path)"
   ]
  },
  {
   "cell_type": "code",
   "execution_count": null,
   "metadata": {},
   "outputs": [],
   "source": []
  }
 ],
 "metadata": {
  "kernelspec": {
   "display_name": "Python 3.9.12 ('MA')",
   "language": "python",
   "name": "python3"
  },
  "language_info": {
   "codemirror_mode": {
    "name": "ipython",
    "version": 3
   },
   "file_extension": ".py",
   "mimetype": "text/x-python",
   "name": "python",
   "nbconvert_exporter": "python",
   "pygments_lexer": "ipython3",
   "version": "3.8.16"
  },
  "orig_nbformat": 4
 },
 "nbformat": 4,
 "nbformat_minor": 2
}
