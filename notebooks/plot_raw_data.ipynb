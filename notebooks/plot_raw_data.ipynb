{
 "cells": [
  {
   "cell_type": "code",
   "execution_count": null,
   "metadata": {},
   "outputs": [],
   "source": [
    "import pandas as pd\n",
    "from PIL import Image\n",
    "import matplotlib.pyplot as plt\n",
    "import matplotlib.patches as patches"
   ]
  },
  {
   "cell_type": "code",
   "execution_count": null,
   "metadata": {},
   "outputs": [],
   "source": [
    "labels2 = pd.read_csv(\"statues_labels2.csv\", names=[\"filename\", \"xmin\", \"ymin\", \"xmax\", \"ymax\", \"class\"], sep=\",\")"
   ]
  },
  {
   "cell_type": "code",
   "execution_count": null,
   "metadata": {},
   "outputs": [],
   "source": [
    "unique_imgs2 = labels2.filename.unique()\n",
    "for img_name in unique_imgs2:\n",
    "    img_path = f\"statues-ataturk/{img_name}\"\n",
    "    img = Image.open(img_path)\n",
    "    fig, ax = plt.subplots()\n",
    "    ax.imshow(img)\n",
    "    \n",
    "    anns = labels2.loc[labels2[\"filename\"] == img_name]\n",
    "    for i, ann in anns.iterrows():\n",
    "        width =  ann[\"xmax\"]\n",
    "        x1 = ann[\"xmin\"]\n",
    "        y1 = ann[\"ymin\"]\n",
    "        x2 = ann[\"xmax\"]\n",
    "        y2 = ann[\"ymax\"]\n",
    "\n",
    "        w = x2-x1\n",
    "        h = y2-y1\n",
    "\n",
    "        class_name = ann[\"class\"]\n",
    "        rect = patches.Rectangle((x1, y1), w, h, linewidth=1, edgecolor='r', facecolor='none')\n",
    "        ax.add_patch(rect)\n",
    "    plt.show()"
   ]
  },
  {
   "cell_type": "code",
   "execution_count": null,
   "metadata": {},
   "outputs": [],
   "source": []
  }
 ],
 "metadata": {
  "kernelspec": {
   "display_name": "Python 3.9.12 ('MA')",
   "language": "python",
   "name": "python3"
  },
  "language_info": {
   "codemirror_mode": {
    "name": "ipython",
    "version": 3
   },
   "file_extension": ".py",
   "mimetype": "text/x-python",
   "name": "python",
   "nbconvert_exporter": "python",
   "pygments_lexer": "ipython3",
   "version": "3.9.12"
  },
  "orig_nbformat": 4
 },
 "nbformat": 4,
 "nbformat_minor": 2
}
