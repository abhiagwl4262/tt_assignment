{
 "cells": [
  {
   "cell_type": "code",
   "execution_count": 8,
   "metadata": {},
   "outputs": [],
   "source": [
    "import glob\n",
    "from PIL import Image\n",
    "import numpy as np"
   ]
  },
  {
   "cell_type": "code",
   "execution_count": 21,
   "metadata": {},
   "outputs": [],
   "source": [
    "image_dir = \"all_images\"\n",
    "img_paths =  glob.glob(image_dir + \"/*\")\n",
    "mean_mat  =  np.zeros((len(img_paths), 3))\n",
    "for i, img_path in enumerate(img_paths):\n",
    "    img     = Image.open(img_path)\n",
    "    img     = np.array(img)/255.0\n",
    "    mean    = np.mean(img, axis=(0,1)) #RGB\n",
    "    mean_mat[i,:] = mean"
   ]
  },
  {
   "cell_type": "code",
   "execution_count": 22,
   "metadata": {},
   "outputs": [
    {
     "name": "stdout",
     "output_type": "stream",
     "text": [
      "[0.42205603 0.43335124 0.41645719]\n"
     ]
    }
   ],
   "source": [
    "overall_mean = mean_mat.mean(0)\n",
    "print(overall_mean)"
   ]
  },
  {
   "cell_type": "code",
   "execution_count": 23,
   "metadata": {},
   "outputs": [
    {
     "name": "stdout",
     "output_type": "stream",
     "text": [
      "[0.11199886 0.1089529  0.12887219]\n"
     ]
    }
   ],
   "source": [
    "diff = mean_mat - overall_mean\n",
    "variance = np.mean(np.square(diff), 0)\n",
    "stddev = np.sqrt(variance)\n",
    "print(stddev)"
   ]
  }
 ],
 "metadata": {
  "kernelspec": {
   "display_name": "Python 3.9.12 ('MA')",
   "language": "python",
   "name": "python3"
  },
  "language_info": {
   "codemirror_mode": {
    "name": "ipython",
    "version": 3
   },
   "file_extension": ".py",
   "mimetype": "text/x-python",
   "name": "python",
   "nbconvert_exporter": "python",
   "pygments_lexer": "ipython3",
   "version": "3.9.12"
  },
  "orig_nbformat": 4
 },
 "nbformat": 4,
 "nbformat_minor": 2
}
