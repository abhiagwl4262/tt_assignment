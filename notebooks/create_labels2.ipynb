{
 "cells": [
  {
   "cell_type": "code",
   "execution_count": null,
   "metadata": {},
   "outputs": [],
   "source": [
    "from PIL import Image\n",
    "import pandas as pd\n",
    "import cv2\n",
    "import os\n"
   ]
  },
  {
   "cell_type": "code",
   "execution_count": null,
   "metadata": {},
   "outputs": [],
   "source": [
    "class_dict = {\n",
    "    \"other\" : 0,\n",
    "    \"lenin\" : 1,\n",
    "    \"ataturk\":2\n",
    "}"
   ]
  },
  {
   "cell_type": "code",
   "execution_count": null,
   "metadata": {},
   "outputs": [],
   "source": [
    "labels2 = pd.read_csv(\"statues-train/statues_labels2.csv\", names=[\"filename\", \"xmin\", \"ymin\", \"xmax\", \"ymax\", \"class\"], sep=\";\")\n",
    "labels2.head()"
   ]
  },
  {
   "cell_type": "code",
   "execution_count": null,
   "metadata": {},
   "outputs": [],
   "source": [
    "labels2.tail()"
   ]
  },
  {
   "cell_type": "code",
   "execution_count": null,
   "metadata": {},
   "outputs": [],
   "source": [
    "labels2[\"class\"].unique()"
   ]
  },
  {
   "cell_type": "code",
   "execution_count": null,
   "metadata": {},
   "outputs": [],
   "source": [
    "unique_imgs2 = labels2.filename.unique()\n",
    "os.makedirs(\"labels\", exist_ok=True)\n",
    "for img_name in unique_imgs2:\n",
    "    img_path = f\"statues-train/statues-ataturk/{img_name}\"\n",
    "    img = cv2.imread(img_path)\n",
    "    height, width = img.shape[:2]\n",
    "    # width = img.width\n",
    "    # height = img.height\n",
    "    anns = labels2.loc[labels2[\"filename\"] == img_name]\n",
    "    filename = img_name.split(\".\")[0]\n",
    "\n",
    "    f = open(f\"labels/{filename}.txt\", \"w+\")\n",
    "    for i, ann in anns.iterrows():\n",
    "        x1 = float(ann[\"xmin\"]) / width\n",
    "        y1 = float(ann[\"ymin\"]) / height\n",
    "        x2 = float(ann[\"xmax\"]) / width\n",
    "        y2 = float(ann[\"ymax\"]) / height\n",
    "        \n",
    "        xmin = int(ann[\"xmin\"])\n",
    "        ymin = int(ann[\"ymin\"])\n",
    "        xmax = int(ann[\"xmax\"])\n",
    "        ymax = int(ann[\"ymax\"])\n",
    "\n",
    "        # cv2.rectangle(img, (xmin, ymin), (xmax, ymax), (0, 255, 0), 2)\n",
    "        # os.makedirs(\"local/images\", exist_ok=True)\n",
    "        # cv2.imwrite(f\"local/images/{img_name}\", img)\n",
    "\n",
    "        w = abs(xmin-xmax) / width\n",
    "        h = abs(ymin-ymax) / height\n",
    "        x_center = (min(xmin, xmax) / width) + w / 2.0\n",
    "        y_center = (min(ymin, ymax) / height) + h / 2.0\n",
    "\n",
    "        class_id = class_dict[\"ataturk\"]\n",
    "        line = f\"{class_id} {x_center} {y_center} {w} {h}\\n\"\n",
    "        f.write(line)"
   ]
  },
  {
   "cell_type": "code",
   "execution_count": null,
   "metadata": {},
   "outputs": [],
   "source": [
    "import shutil\n",
    "path = \"yolov5/datasets/data/labels/val\"\n",
    "for file in os.listdir(path):\n",
    "    filepath = os.path.join(path, file)\n",
    "    if file in os.listdir(\"labels\"):\n",
    "        shutil.copy(os.path.join(\"labels\", file), filepath)\n"
   ]
  },
  {
   "cell_type": "code",
   "execution_count": null,
   "metadata": {},
   "outputs": [],
   "source": []
  }
 ],
 "metadata": {
  "kernelspec": {
   "display_name": "Python 3.9.12 ('MA')",
   "language": "python",
   "name": "python3"
  },
  "language_info": {
   "codemirror_mode": {
    "name": "ipython",
    "version": 3
   },
   "file_extension": ".py",
   "mimetype": "text/x-python",
   "name": "python",
   "nbconvert_exporter": "python",
   "pygments_lexer": "ipython3",
   "version": "3.8.16"
  },
  "orig_nbformat": 4
 },
 "nbformat": 4,
 "nbformat_minor": 2
}
