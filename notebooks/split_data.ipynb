{
 "cells": [
  {
   "cell_type": "code",
   "execution_count": 14,
   "metadata": {},
   "outputs": [],
   "source": [
    "import os\n",
    "import random\n",
    "import shutil"
   ]
  },
  {
   "cell_type": "code",
   "execution_count": 15,
   "metadata": {},
   "outputs": [],
   "source": [
    "data_dir    = \"data\"\n",
    "\n",
    "image_dir       = os.path.join(data_dir, \"all_images\")\n",
    "train_image_dir = os.path.join(data_dir, \"images/train\")\n",
    "val_image_dir   = os.path.join(data_dir, \"images/val\")\n",
    "os.makedirs(train_image_dir, exist_ok=True)\n",
    "os.makedirs(val_image_dir, exist_ok=True)\n",
    "\n",
    "label_dir       = os.path.join(data_dir, \"all_labels\")\n",
    "train_label_dir = os.path.join(data_dir, \"labels/train\")\n",
    "val_label_dir   = os.path.join(data_dir, \"labels/val\")\n",
    "os.makedirs(train_label_dir, exist_ok=True)\n",
    "os.makedirs(val_label_dir, exist_ok=True)"
   ]
  },
  {
   "cell_type": "code",
   "execution_count": 16,
   "metadata": {},
   "outputs": [],
   "source": [
    "label_paths = os.listdir(label_dir)\n",
    "num_val = int(0.25*len(label_paths))\n",
    "label_paths_val = random.sample(label_paths, num_val)\n",
    "\n",
    "for label_path in label_paths_val:\n",
    "    \n",
    "    src_path = os.path.join(label_dir, label_path)\n",
    "    dst_path = os.path.join(val_label_dir, label_path)\n",
    "    shutil.copy(src_path, dst_path)\n",
    "\n",
    "    image_path1 = label_path.split(\".\")[0] +\".jpg\"\n",
    "    image_path2 = label_path.split(\".\")[0] +\".JPG\"\n",
    "    if os.path.exists(image_path1):\n",
    "        image_path = image_path1\n",
    "    else:\n",
    "        image_path = image_path2\n",
    "    src_path = os.path.join(image_dir, image_path)\n",
    "    dst_path = os.path.join(val_image_dir, image_path1)\n",
    "    shutil.copy(src_path, dst_path)\n",
    "\n",
    "for label_path in label_paths:\n",
    "    if label_path not in label_paths_val:\n",
    "        src_path = os.path.join(label_dir, label_path)\n",
    "        dst_path = os.path.join(train_label_dir, label_path)\n",
    "        shutil.copy(src_path, dst_path)\n",
    "\n",
    "        image_path1 = label_path.split(\".\")[0] +\".jpg\"\n",
    "        image_path2 = label_path.split(\".\")[0] +\".JPG\"\n",
    "        if os.path.exists(image_path1):\n",
    "            image_path = image_path1\n",
    "        else:\n",
    "            image_path = image_path2\n",
    "        src_path = os.path.join(image_dir, image_path)\n",
    "        dst_path = os.path.join(train_image_dir, image_path1)\n",
    "        shutil.copy(src_path, dst_path)"
   ]
  }
 ],
 "metadata": {
  "kernelspec": {
   "display_name": "Python 3.9.12 ('MA')",
   "language": "python",
   "name": "python3"
  },
  "language_info": {
   "codemirror_mode": {
    "name": "ipython",
    "version": 3
   },
   "file_extension": ".py",
   "mimetype": "text/x-python",
   "name": "python",
   "nbconvert_exporter": "python",
   "pygments_lexer": "ipython3",
   "version": "3.9.12"
  },
  "orig_nbformat": 4
 },
 "nbformat": 4,
 "nbformat_minor": 2
}
