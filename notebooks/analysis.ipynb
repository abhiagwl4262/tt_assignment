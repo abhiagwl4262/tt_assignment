{
 "cells": [
  {
   "attachments": {},
   "cell_type": "markdown",
   "metadata": {},
   "source": [
    "# Image Analysis\n",
    "### For inconsistent img width and height analysis"
   ]
  },
  {
   "cell_type": "code",
   "execution_count": 11,
   "metadata": {},
   "outputs": [],
   "source": [
    "import os\n",
    "import cv2\n",
    "import pandas as pd"
   ]
  },
  {
   "cell_type": "code",
   "execution_count": 12,
   "metadata": {},
   "outputs": [],
   "source": [
    "good, bad = 0, 0\n",
    "labels1 = pd.read_csv(\"/home/ubuntu/statues-train/statues_labels.csv\")\n",
    "os.makedirs(\"good\", exist_ok=True)\n",
    "os.makedirs(\"bad\", exist_ok=True)"
   ]
  },
  {
   "cell_type": "code",
   "execution_count": 27,
   "metadata": {},
   "outputs": [
    {
     "data": {
      "text/plain": [
       "Index(['filename', 'width', 'height', 'class', 'xmin', 'ymin', 'xmax', 'ymax'], dtype='object')"
      ]
     },
     "execution_count": 27,
     "metadata": {},
     "output_type": "execute_result"
    }
   ],
   "source": [
    "labels1.columns"
   ]
  },
  {
   "cell_type": "code",
   "execution_count": 13,
   "metadata": {},
   "outputs": [],
   "source": [
    "img_paths = {}\n",
    "image_dir = \"../../statues-train/\"\n",
    "for root, _, files in os.walk(image_dir):\n",
    "    for file in files:\n",
    "        if not file.lower().endswith(\".jpg\"):\n",
    "            continue\n",
    "        img_paths[file] = os.path.join(root, file)"
   ]
  },
  {
   "cell_type": "code",
   "execution_count": 14,
   "metadata": {},
   "outputs": [],
   "source": [
    "for i, row in labels1.iterrows():\n",
    "    img_path = img_paths[row[\"filename\"]]\n",
    "    img = cv2.imread(img_path)\n",
    "    h, w = img.shape[:2]\n",
    "    w_, h_ = row[\"width\"], row[\"height\"]\n",
    "\n",
    "    x1 = row[\"xmin\"]\n",
    "    y1 = row[\"ymin\"]\n",
    "    x2 = row[\"xmax\"]\n",
    "    y2 = row[\"ymax\"]\n",
    "\n",
    "    if (w / w_) == (h / h_):\n",
    "        img = cv2.resize(img, (w_, h_))\n",
    "        img = cv2.rectangle(img, (x1, y1), (x2, y2), (0, 255, 0), 2)\n",
    "        cv2.imwrite(f\"good/{row['filename']}\", img)\n",
    "        good += 1\n",
    "    else:\n",
    "        img = cv2.resize(img, (w_, h_))\n",
    "        mg = cv2.rectangle(img, (x1, y1), (x2, y2), (0, 255, 0), 2)\n",
    "        cv2.imwrite(f\"bad/{row['filename']}\", img)\n",
    "        bad += 1"
   ]
  },
  {
   "cell_type": "code",
   "execution_count": 15,
   "metadata": {},
   "outputs": [
    {
     "name": "stdout",
     "output_type": "stream",
     "text": [
      "Good: 614\n",
      "Bad: 265\n"
     ]
    }
   ],
   "source": [
    "print(\"Good:\", good)\n",
    "print(\"Bad:\", bad)"
   ]
  },
  {
   "attachments": {},
   "cell_type": "markdown",
   "metadata": {},
   "source": [
    "# Calculate image mean & std"
   ]
  },
  {
   "cell_type": "code",
   "execution_count": 2,
   "metadata": {},
   "outputs": [],
   "source": [
    "import os\n",
    "from PIL import Image\n",
    "import numpy as np"
   ]
  },
  {
   "cell_type": "code",
   "execution_count": 5,
   "metadata": {},
   "outputs": [],
   "source": [
    "img_paths = []\n",
    "image_dir = \"../../statues-train/\"\n",
    "for root, _, files in os.walk(image_dir):\n",
    "    for file in files:\n",
    "        if not file.lower().endswith(\".jpg\"):\n",
    "            continue\n",
    "        img_paths.append(os.path.join(root, file))\n",
    "\n",
    "mean_mat = np.zeros((len(img_paths), 3))\n",
    "for i, img_path in enumerate(img_paths):\n",
    "    img = Image.open(img_path)\n",
    "    img = np.array(img) / 255.0\n",
    "    mean = np.mean(img, axis=(0, 1))  # RGB\n",
    "    mean_mat[i, :] = mean"
   ]
  },
  {
   "cell_type": "code",
   "execution_count": 6,
   "metadata": {},
   "outputs": [
    {
     "name": "stdout",
     "output_type": "stream",
     "text": [
      "[0.42208945 0.43337985 0.41648867]\n"
     ]
    }
   ],
   "source": [
    "overall_mean = mean_mat.mean(0)\n",
    "print(overall_mean)"
   ]
  },
  {
   "cell_type": "code",
   "execution_count": 7,
   "metadata": {},
   "outputs": [
    {
     "name": "stdout",
     "output_type": "stream",
     "text": [
      "[0.11196138 0.1089347  0.12888725]\n"
     ]
    }
   ],
   "source": [
    "diff = mean_mat - overall_mean\n",
    "variance = np.mean(np.square(diff), 0)\n",
    "stddev = np.sqrt(variance)\n",
    "print(stddev)"
   ]
  },
  {
   "attachments": {},
   "cell_type": "markdown",
   "metadata": {},
   "source": [
    "# Get classwise image size stats"
   ]
  },
  {
   "cell_type": "code",
   "execution_count": 8,
   "metadata": {},
   "outputs": [],
   "source": [
    "import pandas as pd\n",
    "import numpy as np\n",
    "from PIL import Image\n",
    "import matplotlib.pyplot as plt"
   ]
  },
  {
   "cell_type": "code",
   "execution_count": 24,
   "metadata": {},
   "outputs": [],
   "source": [
    "labels1 = pd.read_csv(\"/home/ubuntu/statues-train/statues_labels.csv\")\n",
    "labels2 = pd.read_csv(\n",
    "    \"/home/ubuntu/statues-train/statues_labels2.csv\",\n",
    "    names=[\"filename\", \"xmin\", \"ymin\", \"xmax\", \"ymax\", \"class\"],\n",
    "    sep=\";\",\n",
    ")"
   ]
  },
  {
   "cell_type": "code",
   "execution_count": 25,
   "metadata": {},
   "outputs": [],
   "source": [
    "lenin_df = labels1.loc[labels1[\"class\"] == \"lenin\"]\n",
    "other_df = labels1.loc[labels1[\"class\"] == \"other\"]\n",
    "ataturk_df = labels2.loc[labels2[\"class\"] == \"ataturk\"]"
   ]
  },
  {
   "cell_type": "code",
   "execution_count": 18,
   "metadata": {},
   "outputs": [],
   "source": [
    "img_paths = {}\n",
    "image_dir = \"../../statues-train/\"\n",
    "for root, _, files in os.walk(image_dir):\n",
    "    for file in files:\n",
    "        if not file.lower().endswith(\".jpg\"):\n",
    "            continue\n",
    "        img_paths[file] = os.path.join(root, file)"
   ]
  },
  {
   "cell_type": "code",
   "execution_count": 19,
   "metadata": {},
   "outputs": [],
   "source": [
    "def get_image_stat(df):\n",
    "    img_w, img_h = [], []\n",
    "    for file in df.filename.unique():\n",
    "        img = cv2.imread(img_paths[file])\n",
    "        height, width = img.shape[:2]\n",
    "        img_w.append(width)\n",
    "        img_h.append(height)\n",
    "\n",
    "    img_w = np.array(img_w, dtype=np.float32)\n",
    "    img_h = np.array(img_h, dtype=np.float32)\n",
    "\n",
    "    return img_w, img_h"
   ]
  },
  {
   "cell_type": "code",
   "execution_count": 20,
   "metadata": {},
   "outputs": [],
   "source": [
    "def plot_dist(img_w, img_h):\n",
    "    plt.subplot(121)\n",
    "    plt.hist(img_w)\n",
    "    plt.title(\"width\")\n",
    "\n",
    "    plt.subplot(122)\n",
    "    plt.hist(img_h)\n",
    "    plt.title(\"height\")\n",
    "    plt.show()"
   ]
  },
  {
   "cell_type": "code",
   "execution_count": 21,
   "metadata": {},
   "outputs": [
    {
     "data": {
      "image/png": "[encoded data removed]",
      "text/plain": [
       "<Figure size 640x480 with 2 Axes>"
      ]
     },
     "metadata": {},
     "output_type": "display_data"
    }
   ],
   "source": [
    "img_w, img_h = get_image_stat(other_df)\n",
    "plot_dist(img_w, img_h)"
   ]
  },
  {
   "cell_type": "code",
   "execution_count": 22,
   "metadata": {},
   "outputs": [
    {
     "data": {
      "image/png": "[encoded data removed]",
      "text/plain": [
       "<Figure size 640x480 with 2 Axes>"
      ]
     },
     "metadata": {},
     "output_type": "display_data"
    }
   ],
   "source": [
    "img_w, img_h = get_image_stat(lenin_df)\n",
    "plot_dist(img_w, img_h)"
   ]
  },
  {
   "cell_type": "code",
   "execution_count": 26,
   "metadata": {},
   "outputs": [
    {
     "data": {
      "image/png": "[encoded data removed]",
      "text/plain": [
       "<Figure size 640x480 with 2 Axes>"
      ]
     },
     "metadata": {},
     "output_type": "display_data"
    }
   ],
   "source": [
    "img_w, img_h = get_image_stat(ataturk_df)\n",
    "plot_dist(img_w, img_h)"
   ]
  },
  {
   "cell_type": "code",
   "execution_count": null,
   "metadata": {},
   "outputs": [],
   "source": []
  }
 ],
 "metadata": {
  "kernelspec": {
   "display_name": "Python 3.9.12 ('MA')",
   "language": "python",
   "name": "python3"
  },
  "language_info": {
   "codemirror_mode": {
    "name": "ipython",
    "version": 3
   },
   "file_extension": ".py",
   "mimetype": "text/x-python",
   "name": "python",
   "nbconvert_exporter": "python",
   "pygments_lexer": "ipython3",
   "version": "3.8.16"
  },
  "orig_nbformat": 4
 },
 "nbformat": 4,
 "nbformat_minor": 2
}
